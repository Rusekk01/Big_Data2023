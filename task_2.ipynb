{
 "cells": [
  {
   "cell_type": "code",
   "execution_count": 1,
   "id": "ec7be4cc-2928-4aff-aa7e-94199c20a964",
   "metadata": {},
   "outputs": [],
   "source": [
    "from pyspark import SparkContext, SparkConf \n",
    "from pyspark.sql import SparkSession\n",
    "from pyspark.sql.functions import col\n",
    "import pyspark.sql as sql\n",
    "import os\n",
    "\n",
    "os.environ['PYSPARK_SUBMIT_ARGS'] = '--packages com.databricks:spark-xml_2.12:0.14.0 pyspark-shell'"
   ]
  },
  {
   "cell_type": "code",
   "execution_count": 2,
   "id": "2b3358dd-ec9a-4c40-83a5-a1ce99b515e5",
   "metadata": {},
   "outputs": [],
   "source": [
    "conf = SparkConf().setAppName(\"report_analysis\").setMaster('yarn')"
   ]
  },
  {
   "cell_type": "code",
   "execution_count": 3,
   "id": "945f9c85-61cb-48e9-a2a6-ad038ad87d71",
   "metadata": {},
   "outputs": [],
   "source": [
    "sc = SparkContext(conf=conf)\n",
    "spark = SparkSession(sc)"
   ]
  },
  {
   "cell_type": "code",
   "execution_count": 4,
   "id": "094552d6-0f20-4449-a46b-4d9b54a1a1ad",
   "metadata": {},
   "outputs": [],
   "source": [
    "posts_sample = spark.read.format('xml')\\\n",
    ".option('rootTag', 'posts')\\\n",
    ".option('rowTag', 'row')\\\n",
    ".load(\"posts_sample.xml\")"
   ]
  },
  {
   "cell_type": "code",
   "execution_count": 5,
   "id": "3489aaad-03c0-4c93-99a5-ea1b798584f2",
   "metadata": {},
   "outputs": [
    {
     "name": "stdout",
     "output_type": "stream",
     "text": [
      "root\n",
      " |-- _AcceptedAnswerId: long (nullable = true)\n",
      " |-- _AnswerCount: long (nullable = true)\n",
      " |-- _Body: string (nullable = true)\n",
      " |-- _ClosedDate: timestamp (nullable = true)\n",
      " |-- _CommentCount: long (nullable = true)\n",
      " |-- _CommunityOwnedDate: timestamp (nullable = true)\n",
      " |-- _CreationDate: timestamp (nullable = true)\n",
      " |-- _FavoriteCount: long (nullable = true)\n",
      " |-- _Id: long (nullable = true)\n",
      " |-- _LastActivityDate: timestamp (nullable = true)\n",
      " |-- _LastEditDate: timestamp (nullable = true)\n",
      " |-- _LastEditorDisplayName: string (nullable = true)\n",
      " |-- _LastEditorUserId: long (nullable = true)\n",
      " |-- _OwnerDisplayName: string (nullable = true)\n",
      " |-- _OwnerUserId: long (nullable = true)\n",
      " |-- _ParentId: long (nullable = true)\n",
      " |-- _PostTypeId: long (nullable = true)\n",
      " |-- _Score: long (nullable = true)\n",
      " |-- _Tags: string (nullable = true)\n",
      " |-- _Title: string (nullable = true)\n",
      " |-- _ViewCount: long (nullable = true)\n",
      "\n"
     ]
    }
   ],
   "source": [
    "posts_sample.printSchema()"
   ]
  },
  {
   "cell_type": "code",
   "execution_count": 6,
   "id": "15075cb7-74b3-4c73-9255-731f7bb5e54b",
   "metadata": {},
   "outputs": [
    {
     "name": "stdout",
     "output_type": "stream",
     "text": [
      "+-----------------+------------+--------------------+-----------+-------------+--------------------+--------------------+--------------+-------+--------------------+--------------------+----------------------+-----------------+-----------------+------------+---------+-----------+------+--------------------+--------------------+----------+\n",
      "|_AcceptedAnswerId|_AnswerCount|               _Body|_ClosedDate|_CommentCount| _CommunityOwnedDate|       _CreationDate|_FavoriteCount|    _Id|   _LastActivityDate|       _LastEditDate|_LastEditorDisplayName|_LastEditorUserId|_OwnerDisplayName|_OwnerUserId|_ParentId|_PostTypeId|_Score|               _Tags|              _Title|_ViewCount|\n",
      "+-----------------+------------+--------------------+-----------+-------------+--------------------+--------------------+--------------+-------+--------------------+--------------------+----------------------+-----------------+-----------------+------------+---------+-----------+------+--------------------+--------------------+----------+\n",
      "|                7|          13|<p>I want to use ...|       null|            2|2012-10-31 20:42:...|2008-08-01 02:42:...|            48|      4|2019-07-19 05:39:...|2019-07-19 05:39:...|                Rich B|          3641067|             null|           8|     null|          1|   630|<c#><floating-poi...|Convert Decimal t...|     42817|\n",
      "|               31|           6|<p>I have an abso...|       null|            0|                null|2008-08-01 03:08:...|            10|      6|2019-07-19 05:43:...|2019-07-19 05:43:...|                Rich B|          3641067|             null|           9|     null|          1|   281|<html><css><inter...|Percentage width ...|     18214|\n",
      "|             null|        null|<p>An explicit ca...|       null|            0|                null|2008-08-01 03:17:...|          null|      7|2017-12-16 09:06:...|2017-12-16 09:06:...|                  null|          4020527|             null|           9|        4|          2|   425|                null|                null|      null|\n",
      "|             1404|          63|<p>Given a <code>...|       null|            5|2011-08-16 23:40:...|2008-08-01 04:40:...|           436|      9|2019-06-26 19:25:...|2018-04-21 21:48:...|                Rich B|          3956566|             null|           1|     null|          1|  1742|<c#><.net><datetime>|How do I calculat...|    555183|\n",
      "|             1248|          37|<p>Given a specif...|       null|            3|2009-09-04 18:15:...|2008-08-01 04:55:...|           539|     11|2019-05-26 06:31:...|2017-06-04 19:51:...|           user2370523|          6479704|             null|           1|     null|          1|  1444|<c#><datetime><ti...|Calculate relativ...|    149445|\n",
      "|             null|        null|<p>Here's how I d...|       null|           11|2009-09-04 18:15:...|2008-08-01 04:56:...|          null|     12|2018-01-12 20:10:...|2018-01-12 20:10:...|            GateKiller|          1271898|             null|           1|       11|          2|   327|                null|                null|      null|\n",
      "|             null|          24|<p>Is there a sta...|       null|           10|                null|2008-08-01 05:42:...|           147|     13|2019-05-14 20:02:...|2018-12-25 02:47:...|                Rich B|          9752662|             null|           9|     null|          1|   590|<html><browser><t...|Determine a user'...|    176405|\n",
      "|             null|          10|<p>What is the di...|       null|            4|                null|2008-08-01 05:59:...|            57|     14|2018-09-19 07:49:...|2017-02-25 21:42:...|                Rich B|          6495084|   Anonymous User|          11|     null|          1|   399|        <.net><math>|Difference betwee...|    123231|\n",
      "|             null|        null|<p>No. (And more ...|       null|            6|                null|2010-09-20 20:18:...|          null|3753373|2010-09-20 20:18:...|                null|                  null|             null|             null|       10293|  3753364|          2|    13|                null|                null|      null|\n",
      "|             null|        null|<p>I am not aware...|       null|            2|                null|2010-09-20 22:36:...|          null|3754384|2010-09-20 22:43:...|2010-09-20 22:43:...|                  null|           140185|             null|      140185|  3754279|          2|     2|                null|                null|      null|\n",
      "|             null|        null|<p>If you want a ...|       null|            2|                null|2010-09-20 23:04:...|          null|3754601|2010-09-20 23:04:...|                null|                  null|             null|             null|        7280|  3754553|          2|     1|                null|                null|      null|\n",
      "|             null|        null|<p>The very first...|       null|            0|                null|2010-09-21 06:07:...|          null|3756831|2010-09-21 06:07:...|                null|                  null|             null|             null|      349130|  3756770|          2|     9|                null|                null|      null|\n",
      "|             null|        null|<p>It seems to me...|       null|            3|                null|2010-09-21 11:33:...|          null|3758183|2010-09-21 11:33:...|                null|                  null|             null|             null|       15168|  3754526|          2|     0|                null|                null|      null|\n",
      "|             null|        null|<p>In Django orig...|       null|            3|2010-09-21 15:46:...|2010-09-21 15:46:...|          null|3759958|2010-09-21 17:40:...|2010-09-21 17:40:...|                  null|           377095|             null|      377095|  3759524|          2|     1|                null|                null|      null|\n",
      "|             null|        null|<p>You can't. Mic...|       null|            0|                null|2010-09-21 16:07:...|          null|3760101|2010-09-21 16:07:...|                null|                  null|             null|             null|      155641|  3760066|          2|     1|                null|                null|      null|\n",
      "|             null|        null|<p>I don't know, ...|       null|            0|                null|2010-09-21 17:16:...|          null|3760630|2010-09-21 17:16:...|                null|                  null|             null|             null|      417143|  2739558|          2|     0|                null|                null|      null|\n",
      "|             null|        null|<p>You can't unle...|       null|            2|                null|2010-09-21 19:09:...|          null|3761678|2010-09-21 19:09:...|                null|                  null|             null|             null|       77409|  3761429|          2|     2|                null|                null|      null|\n",
      "|             null|        null|<p>Assume your se...|       null|            0|                null|2010-09-21 20:22:...|          null|3762339|2010-09-21 20:22:...|                null|                  null|             null|             null|        4280|  3761757|          2|     0|                null|                null|      null|\n",
      "|             null|        null|<p>You can use th...|       null|            0|                null|2010-09-21 22:27:...|          null|3763289|2013-06-07 09:57:...|2013-06-07 09:57:...|                  null|          1083859|             null|      413594|  3761292|          2|     3|                null|                null|      null|\n",
      "|             null|        null|<p>You can <a hre...|       null|            3|                null|2010-09-21 23:36:...|          null|3763797|2010-09-21 23:36:...|                null|                  null|             null|             null|       15639|  3754233|          2|    -1|                null|                null|      null|\n",
      "+-----------------+------------+--------------------+-----------+-------------+--------------------+--------------------+--------------+-------+--------------------+--------------------+----------------------+-----------------+-----------------+------------+---------+-----------+------+--------------------+--------------------+----------+\n",
      "only showing top 20 rows\n",
      "\n"
     ]
    }
   ],
   "source": [
    "posts_sample.show()"
   ]
  },
  {
   "cell_type": "code",
   "execution_count": 64,
   "id": "2cc557ec-ae09-4a98-820a-4e8f0e170567",
   "metadata": {},
   "outputs": [
    {
     "name": "stdout",
     "output_type": "stream",
     "text": [
      "+--------------------+----------+--------------------+\n",
      "|       _CreationDate|_ViewCount|               _Tags|\n",
      "+--------------------+----------+--------------------+\n",
      "|2008-08-01 02:42:...|     42817|<c#><floating-poi...|\n",
      "|2008-08-01 03:08:...|     18214|<html><css><inter...|\n",
      "|2008-08-01 03:17:...|      null|                null|\n",
      "|2008-08-01 04:40:...|    555183|<c#><.net><datetime>|\n",
      "|2008-08-01 04:55:...|    149445|<c#><datetime><ti...|\n",
      "|2008-08-01 04:56:...|      null|                null|\n",
      "|2008-08-01 05:42:...|    176405|<html><browser><t...|\n",
      "|2008-08-01 05:59:...|    123231|        <.net><math>|\n",
      "|2010-09-20 20:18:...|      null|                null|\n",
      "|2010-09-20 22:36:...|      null|                null|\n",
      "|2010-09-20 23:04:...|      null|                null|\n",
      "|2010-09-21 06:07:...|      null|                null|\n",
      "|2010-09-21 11:33:...|      null|                null|\n",
      "|2010-09-21 15:46:...|      null|                null|\n",
      "|2010-09-21 16:07:...|      null|                null|\n",
      "|2010-09-21 17:16:...|      null|                null|\n",
      "|2010-09-21 19:09:...|      null|                null|\n",
      "|2010-09-21 20:22:...|      null|                null|\n",
      "|2010-09-21 22:27:...|      null|                null|\n",
      "|2010-09-21 23:36:...|      null|                null|\n",
      "+--------------------+----------+--------------------+\n",
      "only showing top 20 rows\n",
      "\n"
     ]
    }
   ],
   "source": [
    "posts_sample_frm = posts_sample.select(\"_CreationDate\", \"_ViewCount\", \"_Tags\")\n",
    "posts_sample_frm.show()"
   ]
  },
  {
   "cell_type": "code",
   "execution_count": 65,
   "id": "fc25f257-bd32-414b-8f1b-9adda2e22c6f",
   "metadata": {},
   "outputs": [
    {
     "name": "stdout",
     "output_type": "stream",
     "text": [
      "+----+-----+---------------------------------------------------------------+\n",
      "|year|views|languages                                                      |\n",
      "+----+-----+---------------------------------------------------------------+\n",
      "|2010|3650 |[c++, character-encoding]                                      |\n",
      "|2010|617  |[sharepoint, infopath]                                         |\n",
      "|2010|1315 |[iphone, app-store, in-app-purchase]                           |\n",
      "|2010|973  |[symfony1, schema, doctrine, fixtures]                         |\n",
      "|2010|132  |[java]                                                         |\n",
      "|2010|419  |[visual-studio-2010, stylecop]                                 |\n",
      "|2010|869  |[cakephp, file-upload, swfupload]                              |\n",
      "|2010|1303 |[git, cygwin, putty]                                           |\n",
      "|2010|748  |[drupal, drupal-6]                                             |\n",
      "|2010|1258 |[php, wordpress, memory]                                       |\n",
      "|2010|14972|[c#, winforms, data-binding, checkedlistbox]                   |\n",
      "|2010|274  |[c#, asp.net, exception-handling]                              |\n",
      "|2010|804  |[sql, xml, blob]                                               |\n",
      "|2010|6019 |[.htaccess, codeigniter]                                       |\n",
      "|2010|5456 |[wcf, web-services, anonymous, basichttpbinding, wshttpbinding]|\n",
      "|2010|316  |[mod-rewrite, apache2]                                         |\n",
      "|2010|15477|[sql, database, default, sybase]                               |\n",
      "|2010|9649 |[ruby, rvm]                                                    |\n",
      "|2010|20199|[android, eclipse]                                             |\n",
      "|2010|735  |[iphone, uiimageview, pinch, image-zoom]                       |\n",
      "+----+-----+---------------------------------------------------------------+\n",
      "only showing top 20 rows\n",
      "\n"
     ]
    }
   ],
   "source": [
    "parsed_posts_sample = posts_sample_frm.filter(\"_Tags is not null\").rdd.map(lambda x: (str(x[0]).split('-')[0], x[1], x[2][1:-1].split('><'))).toDF([\"year\", \"views\", \"languages\"])\n",
    "parsed_posts_sample = parsed_posts_sample.filter(col(\"year\") >= 2010).filter(col(\"year\") <= 2020)\n",
    "parsed_posts_sample.show(truncate=False)"
   ]
  },
  {
   "cell_type": "code",
   "execution_count": 66,
   "id": "96f8e19d-f0ed-4176-933a-9c9dc36555ad",
   "metadata": {},
   "outputs": [
    {
     "name": "stdout",
     "output_type": "stream",
     "text": [
      "+----+-----+------------------+\n",
      "|year|views|          language|\n",
      "+----+-----+------------------+\n",
      "|2010| 3650|               c++|\n",
      "|2010| 3650|character-encoding|\n",
      "|2010|  617|        sharepoint|\n",
      "|2010|  617|          infopath|\n",
      "|2010| 1315|            iphone|\n",
      "|2010| 1315|         app-store|\n",
      "|2010| 1315|   in-app-purchase|\n",
      "|2010|  973|          symfony1|\n",
      "|2010|  973|            schema|\n",
      "|2010|  973|          doctrine|\n",
      "|2010|  973|          fixtures|\n",
      "|2010|  132|              java|\n",
      "|2010|  419|visual-studio-2010|\n",
      "|2010|  419|          stylecop|\n",
      "|2010|  869|           cakephp|\n",
      "|2010|  869|       file-upload|\n",
      "|2010|  869|         swfupload|\n",
      "|2010| 1303|               git|\n",
      "|2010| 1303|            cygwin|\n",
      "|2010| 1303|             putty|\n",
      "+----+-----+------------------+\n",
      "only showing top 20 rows\n",
      "\n"
     ]
    }
   ],
   "source": [
    "from pyspark.sql.functions import explode\n",
    "\n",
    "parsed_posts_sample = parsed_posts_sample.withColumn(\"language\", explode(parsed_posts_sample[\"languages\"])).drop('languages')\n",
    "parsed_posts_sample.show()"
   ]
  },
  {
   "cell_type": "code",
   "execution_count": 67,
   "id": "08c269b1-f55f-4afb-9489-319e9956b133",
   "metadata": {},
   "outputs": [],
   "source": [
    "wiki_languages = spark.read\\\n",
    ".option(\"header\", True)\\\n",
    ".option(\"inferSchema\", True)\\\n",
    ".csv(\"programming-languages.csv\")"
   ]
  },
  {
   "cell_type": "code",
   "execution_count": 68,
   "id": "35e3fef6-5904-47cd-bf36-e91c37e400c6",
   "metadata": {},
   "outputs": [
    {
     "name": "stdout",
     "output_type": "stream",
     "text": [
      "+----+-----+-----------+\n",
      "|year|views|   language|\n",
      "+----+-----+-----------+\n",
      "|2010|  132|       java|\n",
      "|2010| 1258|        php|\n",
      "|2010| 9649|       ruby|\n",
      "|2010| 2384|          c|\n",
      "|2010| 1987|        php|\n",
      "|2010| 3321|     python|\n",
      "|2010|  128| javascript|\n",
      "|2010|  477|applescript|\n",
      "|2010| 1748|        php|\n",
      "|2010|  998|        php|\n",
      "|2010| 2095| javascript|\n",
      "|2010|  447|        sed|\n",
      "|2010| 6558|     python|\n",
      "|2010|  214|       java|\n",
      "|2010|  214|       ruby|\n",
      "|2010|  852|objective-c|\n",
      "|2010|  179| javascript|\n",
      "|2010| 6709|          r|\n",
      "|2010|   78|        php|\n",
      "|2010| 1280| javascript|\n",
      "+----+-----+-----------+\n",
      "only showing top 20 rows\n",
      "\n"
     ]
    }
   ],
   "source": [
    "names = wiki_languages.select(\"name\").rdd.map(lambda x: x[0].lower()).collect()\n",
    "parsed_posts_sample = parsed_posts_sample.filter(parsed_posts_sample.language.isin(names))\n",
    "parsed_posts_sample.show()"
   ]
  },
  {
   "cell_type": "code",
   "execution_count": 69,
   "id": "471f7b42-f04f-49b7-bc5c-5967df1e9f30",
   "metadata": {},
   "outputs": [
    {
     "name": "stdout",
     "output_type": "stream",
     "text": [
      "+----+-----------+----------+\n",
      "|year|   language|sum(views)|\n",
      "+----+-----------+----------+\n",
      "|2013|     erlang|      2302|\n",
      "|2017| typescript|     29031|\n",
      "|2017|        sed|        93|\n",
      "|2013| javascript|    609571|\n",
      "|2013|         f#|      4317|\n",
      "|2012| powershell|     17311|\n",
      "|2019|        php|      3753|\n",
      "|2017|    haskell|      4040|\n",
      "|2013| autohotkey|      4421|\n",
      "|2013|applescript|      2059|\n",
      "|2019|      xpath|        27|\n",
      "|2015|     racket|       762|\n",
      "|2017|         go|      1356|\n",
      "|2018|      perl6|       109|\n",
      "|2015|       dart|       402|\n",
      "|2015|       rust|       117|\n",
      "|2012|         f#|      1222|\n",
      "|2018|     python|     99996|\n",
      "|2017|     prolog|        76|\n",
      "|2016|      latex|       461|\n",
      "+----+-----------+----------+\n",
      "only showing top 20 rows\n",
      "\n"
     ]
    }
   ],
   "source": [
    "parsed_posts_sample = parsed_posts_sample.groupBy(\"year\", \"language\").agg({\"views\": \"sum\"})\n",
    "parsed_posts_sample.show()"
   ]
  },
  {
   "cell_type": "code",
   "execution_count": 70,
   "id": "d87a0e7f-5032-4c8e-96c2-b988991e37f1",
   "metadata": {},
   "outputs": [],
   "source": [
    "from pyspark.sql import Window\n",
    "from pyspark.sql.functions import row_number\n",
    "\n",
    "window = Window.partitionBy(parsed_posts_sample['year']).orderBy(parsed_posts_sample['sum(views)'].desc())\n",
    "\n",
    "parsed_posts_sample_top10 = parsed_posts_sample.select('*', row_number().over(window).alias('row_number')).filter(col('row_number') <= 10)"
   ]
  },
  {
   "cell_type": "code",
   "execution_count": 75,
   "id": "c9a805f8-a085-48ba-853b-95909ba1b39a",
   "metadata": {},
   "outputs": [
    {
     "name": "stdout",
     "output_type": "stream",
     "text": [
      "+----+-----------+-------+\n",
      "|year|   language|  views|\n",
      "+----+-----------+-------+\n",
      "|2010|        php|1189629|\n",
      "|2010|       java| 563211|\n",
      "|2010| javascript| 316131|\n",
      "|2010|objective-c|  97009|\n",
      "|2010|       ruby|  76215|\n",
      "|2010|          c|  66587|\n",
      "|2010|     python|  60672|\n",
      "|2010|     matlab|  51865|\n",
      "|2010|applescript|  32305|\n",
      "|2010|     delphi|  13065|\n",
      "|2011| javascript| 809078|\n",
      "|2011|       java| 389834|\n",
      "|2011|        php| 246770|\n",
      "|2011|          c| 238277|\n",
      "|2011|objective-c| 218934|\n",
      "|2011|     python| 203180|\n",
      "|2011|       bash|  60805|\n",
      "|2011|       ruby|  39223|\n",
      "|2011|       perl|  28502|\n",
      "|2011|     matlab|  18816|\n",
      "+----+-----------+-------+\n",
      "only showing top 20 rows\n",
      "\n"
     ]
    }
   ],
   "source": [
    "parsed_posts_sample_top10 = parsed_posts_sample_top10.orderBy(col(\"year\").asc(), col(\"sum(views)\").desc()).drop(\"rank\")\n",
    "parsed_posts_sample_top10 = parsed_posts_sample_top10.withColumnRenamed(\"sum(views)\", \"views\")\n",
    "parsed_posts_sample_top10.show()"
   ]
  },
  {
   "cell_type": "code",
   "execution_count": 76,
   "id": "4f024afe-347c-40de-88e0-8d8f2fbce407",
   "metadata": {},
   "outputs": [],
   "source": [
    "parsed_posts_sample_top10.write.mode('overwrite').parquet(\"top_10_languages_per_year_between_2010_and_2020.parquet\")"
   ]
  }
 ],
 "metadata": {
  "kernelspec": {
   "display_name": "Python 3",
   "language": "python",
   "name": "python3"
  },
  "language_info": {
   "codemirror_mode": {
    "name": "ipython",
    "version": 3
   },
   "file_extension": ".py",
   "mimetype": "text/x-python",
   "name": "python",
   "nbconvert_exporter": "python",
   "pygments_lexer": "ipython3",
   "version": "3.9.5"
  }
 },
 "nbformat": 4,
 "nbformat_minor": 5
}
