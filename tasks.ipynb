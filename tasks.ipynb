{
 "cells": [
  {
   "cell_type": "code",
   "execution_count": 62,
   "id": "4ecd7614-0d40-42bb-9eea-7df317965df4",
   "metadata": {},
   "outputs": [],
   "source": [
    "from pyspark import SparkContext, SparkConf \n",
    "from pyspark.sql import SparkSession\n",
    "import pyspark.sql as sql\n",
    "from pyspark.sql.functions import col"
   ]
  },
  {
   "cell_type": "code",
   "execution_count": 2,
   "id": "8c3859b7-6f85-4507-889a-9f6015d225d7",
   "metadata": {},
   "outputs": [],
   "source": [
    "conf = SparkConf().setAppName(\"Bikes_analysis\").setMaster('yarn')"
   ]
  },
  {
   "cell_type": "code",
   "execution_count": 3,
   "id": "f1242d39-5cb9-4539-8286-5b85d6e02cdb",
   "metadata": {},
   "outputs": [],
   "source": [
    "sc = SparkContext(conf=conf)\n",
    "spark = SparkSession(sc)"
   ]
  },
  {
   "cell_type": "code",
   "execution_count": 4,
   "id": "25836c7a-bd96-4168-ab93-bd63e55d3613",
   "metadata": {},
   "outputs": [
    {
     "data": {
      "text/plain": [
       "DataFrame[id: int, duration: int, start_date: timestamp, start_station_name: string, start_station_id: int, end_date: timestamp, end_station_name: string, end_station_id: int, bike_id: int, subscription_type: string, zip_code: string]"
      ]
     },
     "execution_count": 4,
     "metadata": {},
     "output_type": "execute_result"
    }
   ],
   "source": [
    "tripData = spark.read\\\n",
    ".option(\"header\", True)\\\n",
    ".option(\"inferSchema\", True)\\\n",
    ".option(\"timestampFormat\", 'M/d/y H:m')\\\n",
    ".csv(\"trips.csv\")\n",
    "\n",
    "tripData"
   ]
  },
  {
   "cell_type": "code",
   "execution_count": 14,
   "id": "223914f4-af5b-4f57-884a-6f57d8fed4ff",
   "metadata": {},
   "outputs": [],
   "source": [
    "stationData = spark.read\\\n",
    ".option(\"header\", True)\\\n",
    ".option(\"inferSchema\", True)\\\n",
    ".option(\"timestampFormat\", 'M/d/y')\\\n",
    ".csv(\"stations.csv\")"
   ]
  },
  {
   "cell_type": "code",
   "execution_count": 5,
   "id": "6aac3c95-0026-4ed2-810f-841682fbf93f",
   "metadata": {},
   "outputs": [
    {
     "name": "stdout",
     "output_type": "stream",
     "text": [
      "root\n",
      " |-- id: integer (nullable = true)\n",
      " |-- duration: integer (nullable = true)\n",
      " |-- start_date: timestamp (nullable = true)\n",
      " |-- start_station_name: string (nullable = true)\n",
      " |-- start_station_id: integer (nullable = true)\n",
      " |-- end_date: timestamp (nullable = true)\n",
      " |-- end_station_name: string (nullable = true)\n",
      " |-- end_station_id: integer (nullable = true)\n",
      " |-- bike_id: integer (nullable = true)\n",
      " |-- subscription_type: string (nullable = true)\n",
      " |-- zip_code: string (nullable = true)\n",
      "\n"
     ]
    }
   ],
   "source": [
    "tripData.printSchema()"
   ]
  },
  {
   "cell_type": "code",
   "execution_count": 15,
   "id": "30bad2cb-8a10-4c84-ba24-c97eec2d6ba8",
   "metadata": {},
   "outputs": [
    {
     "name": "stdout",
     "output_type": "stream",
     "text": [
      "root\n",
      " |-- id: integer (nullable = true)\n",
      " |-- name: string (nullable = true)\n",
      " |-- lat: double (nullable = true)\n",
      " |-- long: double (nullable = true)\n",
      " |-- dock_count: integer (nullable = true)\n",
      " |-- city: string (nullable = true)\n",
      " |-- installation_date: timestamp (nullable = true)\n",
      "\n"
     ]
    }
   ],
   "source": [
    "stationData.printSchema()"
   ]
  },
  {
   "cell_type": "markdown",
   "id": "3ede05c2-32f8-42b1-be67-07052c639480",
   "metadata": {},
   "source": [
    "Задание 1. Найти велосипед с максимальным временем пробега."
   ]
  },
  {
   "cell_type": "code",
   "execution_count": 7,
   "id": "354c8d10-137c-4130-adb5-e0f4c4077f90",
   "metadata": {},
   "outputs": [],
   "source": [
    "tripData.createOrReplaceTempView(\"trips\")"
   ]
  },
  {
   "cell_type": "code",
   "execution_count": 13,
   "id": "d83f8d86-70f3-40de-993a-417f247a714d",
   "metadata": {},
   "outputs": [
    {
     "name": "stdout",
     "output_type": "stream",
     "text": [
      "+-------+--------+\n",
      "|bike_id|     dur|\n",
      "+-------+--------+\n",
      "|    535|36229902|\n",
      "+-------+--------+\n",
      "\n"
     ]
    }
   ],
   "source": [
    "res = spark.sql(\"SELECT bike_id, sum(duration) as dur from trips group by bike_id order by dur DESC LIMIT 1\")\n",
    "res.show()"
   ]
  },
  {
   "cell_type": "markdown",
   "id": "d1591ae9-c5e5-477b-ba13-08d18368711e",
   "metadata": {},
   "source": [
    "Задание 2. Найти наибольшее геодезическое расстояние между станциями."
   ]
  },
  {
   "cell_type": "code",
   "execution_count": 17,
   "id": "62fc6370-55db-4536-b95c-d1bf78bb21ba",
   "metadata": {},
   "outputs": [
    {
     "name": "stdout",
     "output_type": "stream",
     "text": [
      "root\n",
      " |-- id: integer (nullable = true)\n",
      " |-- name: string (nullable = true)\n",
      " |-- lat: double (nullable = true)\n",
      " |-- long: double (nullable = true)\n",
      " |-- dock_count: integer (nullable = true)\n",
      " |-- city: string (nullable = true)\n",
      " |-- installation_date: timestamp (nullable = true)\n",
      " |-- id: integer (nullable = true)\n",
      " |-- name: string (nullable = true)\n",
      " |-- lat: double (nullable = true)\n",
      " |-- long: double (nullable = true)\n",
      " |-- dock_count: integer (nullable = true)\n",
      " |-- city: string (nullable = true)\n",
      " |-- installation_date: timestamp (nullable = true)\n",
      "\n"
     ]
    }
   ],
   "source": [
    "joined_stations = stationData.crossJoin(stationData)\n",
    "joined_stations.printSchema()"
   ]
  },
  {
   "cell_type": "code",
   "execution_count": 27,
   "id": "96f35826-66f6-4524-963b-84b2aa139117",
   "metadata": {},
   "outputs": [],
   "source": [
    "from math import radians, cos, sin, asin, sqrt\n",
    "\n",
    "def calculate_distance(lat1, lon1, lat2, lon2):\n",
    "    # Преобразуем координаты в радианы\n",
    "    lon1, lat1, lon2, lat2 = map(radians, [lon1, lat1, lon2, lat2])\n",
    "\n",
    "    # Применяем формулу Хаверсина\n",
    "    dlon = lon2 - lon1\n",
    "    dlat = lat2 - lat1\n",
    "    a = sin(dlat/2)**2 + cos(lat1) * cos(lat2) * sin(dlon/2)**2\n",
    "    c = 2 * asin(sqrt(a))\n",
    "    r = 6371 # Радиус Земли в километрах\n",
    "    return c * r"
   ]
  },
  {
   "cell_type": "code",
   "execution_count": 52,
   "id": "3dad122b-1138-47f1-b3b0-9e838d41d34e",
   "metadata": {},
   "outputs": [],
   "source": [
    "res2 = joined_stations.rdd.map(lambda x: calculate_distance(x[2], x[3], x[9], x[10])).max()"
   ]
  },
  {
   "cell_type": "code",
   "execution_count": 53,
   "id": "1c5c41dd-9dbf-49ac-8412-79bad4671434",
   "metadata": {},
   "outputs": [
    {
     "name": "stdout",
     "output_type": "stream",
     "text": [
      "69.92087595428183\n"
     ]
    }
   ],
   "source": [
    "print(res2)"
   ]
  },
  {
   "cell_type": "markdown",
   "id": "1a2c62c7-dda5-4b2b-aa21-3577885dc1be",
   "metadata": {},
   "source": [
    "Задание 3. Найти путь велосипеда с максимальным временем пробега через станции."
   ]
  },
  {
   "cell_type": "code",
   "execution_count": 86,
   "id": "6991545c-5236-4726-91cb-51681901abf7",
   "metadata": {},
   "outputs": [
    {
     "name": "stdout",
     "output_type": "stream",
     "text": [
      "[2.312047985749405]\n"
     ]
    }
   ],
   "source": [
    "temp = tripData.orderBy(col(\"duration\").desc()).limit(1).collect()\n",
    "res3 = joined_stations.rdd.filter(lambda l: (l[1] == temp[0].start_station_name) and (l[8] == temp[0].end_station_name))\\\n",
    ".map(lambda x: calculate_distance(x[2], x[3], x[9], x[10]))\n",
    "print(res3.collect())"
   ]
  },
  {
   "cell_type": "markdown",
   "id": "6021f3f4-4a46-4a9c-8221-a800f0babc89",
   "metadata": {},
   "source": [
    "Задание 4. Найти количество велосипедов в системе."
   ]
  },
  {
   "cell_type": "code",
   "execution_count": 88,
   "id": "116433d7-1c20-4723-8b45-6caf9f5ef9ff",
   "metadata": {},
   "outputs": [
    {
     "name": "stdout",
     "output_type": "stream",
     "text": [
      "+-----------------------+\n",
      "|count(DISTINCT bike_id)|\n",
      "+-----------------------+\n",
      "|                    700|\n",
      "+-----------------------+\n",
      "\n"
     ]
    }
   ],
   "source": [
    "res4 = spark.sql(\"select count(distinct bike_id) from trips\")\n",
    "res4.show()"
   ]
  },
  {
   "cell_type": "markdown",
   "id": "c42f98ca-e81c-461b-bf19-e3dbae3d4a82",
   "metadata": {},
   "source": [
    "Задание 5. Найти пользователей потративших на поездки более 3 часов."
   ]
  },
  {
   "cell_type": "code",
   "execution_count": 101,
   "id": "bb73e1a1-290b-41ca-8c79-5eecd3e07f5f",
   "metadata": {},
   "outputs": [
    {
     "name": "stdout",
     "output_type": "stream",
     "text": [
      "+------+------------+\n",
      "|    id|sum_duration|\n",
      "+------+------------+\n",
      "|862602|       27414|\n",
      "|843086|       30644|\n",
      "|831518|       34234|\n",
      "|797846|       11798|\n",
      "|796682|       55696|\n",
      "|781053|       15068|\n",
      "|755329|       13080|\n",
      "|744184|       13622|\n",
      "|730089|       15182|\n",
      "|721109|       11826|\n",
      "|712173|       27468|\n",
      "|702265|       18332|\n",
      "|701901|       23816|\n",
      "|697283|       43534|\n",
      "|692091|       27238|\n",
      "|681960|      156566|\n",
      "|645660|       19188|\n",
      "|645212|       19740|\n",
      "|627911|       15738|\n",
      "|597804|       33998|\n",
      "+------+------------+\n",
      "only showing top 20 rows\n",
      "\n"
     ]
    },
    {
     "data": {
      "text/plain": [
       "11398"
      ]
     },
     "execution_count": 101,
     "metadata": {},
     "output_type": "execute_result"
    }
   ],
   "source": [
    "temp5 = spark.sql(\"SELECT id, sum_duration FROM ( SELECT id, sum(duration) as sum_duration FROM trips GROUP BY id) WHERE sum_duration > 10800\")\n",
    "temp5.show()\n",
    "temp5.count()"
   ]
  },
  {
   "cell_type": "code",
   "execution_count": null,
   "id": "ae3d906a-fd07-40c9-a69e-be2b753f08e5",
   "metadata": {},
   "outputs": [],
   "source": []
  }
 ],
 "metadata": {
  "kernelspec": {
   "display_name": "Python 3",
   "language": "python",
   "name": "python3"
  },
  "language_info": {
   "codemirror_mode": {
    "name": "ipython",
    "version": 3
   },
   "file_extension": ".py",
   "mimetype": "text/x-python",
   "name": "python",
   "nbconvert_exporter": "python",
   "pygments_lexer": "ipython3",
   "version": "3.9.5"
  }
 },
 "nbformat": 4,
 "nbformat_minor": 5
}
